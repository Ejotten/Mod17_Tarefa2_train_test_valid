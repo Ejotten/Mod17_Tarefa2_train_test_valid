{
 "cells": [
  {
   "cell_type": "markdown",
   "metadata": {},
   "source": [
    "# Árvores II - Tarefa 2"
   ]
  },
  {
   "cell_type": "markdown",
   "metadata": {},
   "source": [
    "### 1. Carregar as bases\n",
    "\n",
    "Vamos carregar as bases lidas na tarefa passada. Se você salvou essas bases em arquivo texto, basta fazer a leitura com o comando ```pd.read_csv``` das seguintes bases:\n",
    "\n",
    "- X_train\n",
    "- Y_train\n",
    "- X_test\n",
    "- Y_test\n",
    "\n",
    "Não se esqueça de considerar a leitura dos índices dos arquivos no ```read_csv()```!"
   ]
  },
  {
   "cell_type": "code",
   "execution_count": 1,
   "metadata": {},
   "outputs": [],
   "source": [
    "import pandas as pd\n",
    "import seaborn as sns\n",
    "import matplotlib.pyplot as plt\n",
    "import numpy as np\n",
    "from sklearn.tree import DecisionTreeClassifier\n",
    "from sklearn.model_selection import train_test_split\n",
    "from sklearn.metrics import plot_confusion_matrix"
   ]
  },
  {
   "cell_type": "code",
   "execution_count": 2,
   "metadata": {},
   "outputs": [],
   "source": [
    "X_train = pd.read_csv('./X_train.csv')\n",
    "X_test = pd.read_csv('./X_test.csv')\n",
    "y_train = pd.read_csv('./UCI HAR Dataset/train/y_train.txt', header=None, delim_whitespace=True)\n",
    "y_test = pd.read_csv('./UCI HAR Dataset/test/y_test.txt', header=None, delim_whitespace=True)"
   ]
  },
  {
   "cell_type": "code",
   "execution_count": 3,
   "metadata": {},
   "outputs": [],
   "source": [
    "X_train.set_index(['subject', X_train.index], inplace=True)\n",
    "X_test.set_index(['subject', X_test.index], inplace=True)"
   ]
  },
  {
   "cell_type": "markdown",
   "metadata": {},
   "source": [
    "### 2. Divisão da base em Treino, Validação e Teste\n",
    "\n",
    "A base já se encontra dividida em Treino e Validação. O que vamos fazer então é extrair uma base de Validação da base de Treino.\n",
    "\n",
    "Extraia 25% da base de treino como base de validação."
   ]
  },
  {
   "cell_type": "code",
   "execution_count": 4,
   "metadata": {},
   "outputs": [],
   "source": [
    "X_train, X_valid, y_train, y_valid = train_test_split(X_train, y_train, test_size=.25, random_state=77)"
   ]
  },
  {
   "cell_type": "code",
   "execution_count": 5,
   "metadata": {},
   "outputs": [
    {
     "data": {
      "text/plain": [
       "3098868"
      ]
     },
     "execution_count": 5,
     "metadata": {},
     "output_type": "execute_result"
    }
   ],
   "source": [
    "X_train.size"
   ]
  },
  {
   "cell_type": "code",
   "execution_count": 6,
   "metadata": {},
   "outputs": [
    {
     "data": {
      "text/plain": [
       "1032956"
      ]
     },
     "execution_count": 6,
     "metadata": {},
     "output_type": "execute_result"
    }
   ],
   "source": [
    "X_valid.size"
   ]
  },
  {
   "cell_type": "code",
   "execution_count": 7,
   "metadata": {},
   "outputs": [
    {
     "data": {
      "text/plain": [
       "1656214"
      ]
     },
     "execution_count": 7,
     "metadata": {},
     "output_type": "execute_result"
    }
   ],
   "source": [
    "X_test.size"
   ]
  },
  {
   "cell_type": "markdown",
   "metadata": {},
   "source": [
    "### 3. Melhores 3 variáveis\n",
    "\n",
    "Rode uma árvore com profundidade máxima igual a 4 para prever a atividade humana com todas as variáveis.\n",
    "Observe a importância das variáveis e considere as 3 variáveis com maior importância para os próximos passos.\n",
    "Dica: utilize o atributo ```clf.feature_importances_``` da árvore treinada."
   ]
  },
  {
   "cell_type": "code",
   "execution_count": 8,
   "metadata": {},
   "outputs": [],
   "source": [
    "clf = DecisionTreeClassifier(random_state=77, max_depth=4).fit(X_train, y_train)"
   ]
  },
  {
   "cell_type": "code",
   "execution_count": 9,
   "metadata": {},
   "outputs": [],
   "source": [
    "#extraindo o nome das colunas\n",
    "feature_names = X_train.columns\n",
    "# achando os mais importantes\n",
    "importance_sorted = sorted(zip(clf.feature_importances_, feature_names), reverse=True)\n"
   ]
  },
  {
   "cell_type": "code",
   "execution_count": 10,
   "metadata": {},
   "outputs": [
    {
     "data": {
      "text/plain": [
       "[(0.28778158908493406, 'tGravityAcc-min()-X'),\n",
       " (0.25340389311656114, 'fBodyAcc-mean()-X'),\n",
       " (0.16051420205774705, 'tGravityAcc-mean()-Y'),\n",
       " (0.13745019632798058, 'fBodyAccMag-energy()'),\n",
       " (0.12271599279334063, 'tGravityAcc-arCoeff()-Y,1'),\n",
       " (0.019372595176029215, 'tBodyGyro-correlation()-Y,Z'),\n",
       " (0.012887490375758372, 'tGravityAcc-energy()-Y'),\n",
       " (0.005874041067648971, 'fBodyGyro-std()-X'),\n",
       " (0.0, 'tGravityAccMag-std()'),\n",
       " (0.0, 'tGravityAccMag-sma()'),\n",
       " (0.0, 'tGravityAccMag-min()'),\n",
       " (0.0, 'tGravityAccMag-mean()'),\n",
       " (0.0, 'tGravityAccMag-max()'),\n",
       " (0.0, 'tGravityAccMag-mad()'),\n",
       " (0.0, 'tGravityAccMag-iqr()'),\n",
       " (0.0, 'tGravityAccMag-entropy()'),\n",
       " (0.0, 'tGravityAccMag-energy()'),\n",
       " (0.0, 'tGravityAccMag-arCoeff()4'),\n",
       " (0.0, 'tGravityAccMag-arCoeff()3'),\n",
       " (0.0, 'tGravityAccMag-arCoeff()2'),\n",
       " (0.0, 'tGravityAccMag-arCoeff()1'),\n",
       " (0.0, 'tGravityAcc-std()-Z'),\n",
       " (0.0, 'tGravityAcc-std()-Y'),\n",
       " (0.0, 'tGravityAcc-std()-X'),\n",
       " (0.0, 'tGravityAcc-sma()'),\n",
       " (0.0, 'tGravityAcc-min()-Z'),\n",
       " (0.0, 'tGravityAcc-min()-Y'),\n",
       " (0.0, 'tGravityAcc-mean()-Z'),\n",
       " (0.0, 'tGravityAcc-mean()-X'),\n",
       " (0.0, 'tGravityAcc-max()-Z'),\n",
       " (0.0, 'tGravityAcc-max()-Y'),\n",
       " (0.0, 'tGravityAcc-max()-X'),\n",
       " (0.0, 'tGravityAcc-mad()-Z'),\n",
       " (0.0, 'tGravityAcc-mad()-Y'),\n",
       " (0.0, 'tGravityAcc-mad()-X'),\n",
       " (0.0, 'tGravityAcc-iqr()-Z'),\n",
       " (0.0, 'tGravityAcc-iqr()-Y'),\n",
       " (0.0, 'tGravityAcc-iqr()-X'),\n",
       " (0.0, 'tGravityAcc-entropy()-Z'),\n",
       " (0.0, 'tGravityAcc-entropy()-Y'),\n",
       " (0.0, 'tGravityAcc-entropy()-X'),\n",
       " (0.0, 'tGravityAcc-energy()-Z'),\n",
       " (0.0, 'tGravityAcc-energy()-X'),\n",
       " (0.0, 'tGravityAcc-correlation()-Y,Z'),\n",
       " (0.0, 'tGravityAcc-correlation()-X,Z'),\n",
       " (0.0, 'tGravityAcc-correlation()-X,Y'),\n",
       " (0.0, 'tGravityAcc-arCoeff()-Z,4'),\n",
       " (0.0, 'tGravityAcc-arCoeff()-Z,3'),\n",
       " (0.0, 'tGravityAcc-arCoeff()-Z,2'),\n",
       " (0.0, 'tGravityAcc-arCoeff()-Z,1'),\n",
       " (0.0, 'tGravityAcc-arCoeff()-Y,4'),\n",
       " (0.0, 'tGravityAcc-arCoeff()-Y,3'),\n",
       " (0.0, 'tGravityAcc-arCoeff()-Y,2'),\n",
       " (0.0, 'tGravityAcc-arCoeff()-X,4'),\n",
       " (0.0, 'tGravityAcc-arCoeff()-X,3'),\n",
       " (0.0, 'tGravityAcc-arCoeff()-X,2'),\n",
       " (0.0, 'tGravityAcc-arCoeff()-X,1'),\n",
       " (0.0, 'tBodyGyroMag-std()'),\n",
       " (0.0, 'tBodyGyroMag-sma()'),\n",
       " (0.0, 'tBodyGyroMag-min()'),\n",
       " (0.0, 'tBodyGyroMag-mean()'),\n",
       " (0.0, 'tBodyGyroMag-max()'),\n",
       " (0.0, 'tBodyGyroMag-mad()'),\n",
       " (0.0, 'tBodyGyroMag-iqr()'),\n",
       " (0.0, 'tBodyGyroMag-entropy()'),\n",
       " (0.0, 'tBodyGyroMag-energy()'),\n",
       " (0.0, 'tBodyGyroMag-arCoeff()4'),\n",
       " (0.0, 'tBodyGyroMag-arCoeff()3'),\n",
       " (0.0, 'tBodyGyroMag-arCoeff()2'),\n",
       " (0.0, 'tBodyGyroMag-arCoeff()1'),\n",
       " (0.0, 'tBodyGyroJerkMag-std()'),\n",
       " (0.0, 'tBodyGyroJerkMag-sma()'),\n",
       " (0.0, 'tBodyGyroJerkMag-min()'),\n",
       " (0.0, 'tBodyGyroJerkMag-mean()'),\n",
       " (0.0, 'tBodyGyroJerkMag-max()'),\n",
       " (0.0, 'tBodyGyroJerkMag-mad()'),\n",
       " (0.0, 'tBodyGyroJerkMag-iqr()'),\n",
       " (0.0, 'tBodyGyroJerkMag-entropy()'),\n",
       " (0.0, 'tBodyGyroJerkMag-energy()'),\n",
       " (0.0, 'tBodyGyroJerkMag-arCoeff()4'),\n",
       " (0.0, 'tBodyGyroJerkMag-arCoeff()3'),\n",
       " (0.0, 'tBodyGyroJerkMag-arCoeff()2'),\n",
       " (0.0, 'tBodyGyroJerkMag-arCoeff()1'),\n",
       " (0.0, 'tBodyGyroJerk-std()-Z'),\n",
       " (0.0, 'tBodyGyroJerk-std()-Y'),\n",
       " (0.0, 'tBodyGyroJerk-std()-X'),\n",
       " (0.0, 'tBodyGyroJerk-sma()'),\n",
       " (0.0, 'tBodyGyroJerk-min()-Z'),\n",
       " (0.0, 'tBodyGyroJerk-min()-Y'),\n",
       " (0.0, 'tBodyGyroJerk-min()-X'),\n",
       " (0.0, 'tBodyGyroJerk-mean()-Z'),\n",
       " (0.0, 'tBodyGyroJerk-mean()-Y'),\n",
       " (0.0, 'tBodyGyroJerk-mean()-X'),\n",
       " (0.0, 'tBodyGyroJerk-max()-Z'),\n",
       " (0.0, 'tBodyGyroJerk-max()-Y'),\n",
       " (0.0, 'tBodyGyroJerk-max()-X'),\n",
       " (0.0, 'tBodyGyroJerk-mad()-Z'),\n",
       " (0.0, 'tBodyGyroJerk-mad()-Y'),\n",
       " (0.0, 'tBodyGyroJerk-mad()-X'),\n",
       " (0.0, 'tBodyGyroJerk-iqr()-Z'),\n",
       " (0.0, 'tBodyGyroJerk-iqr()-Y'),\n",
       " (0.0, 'tBodyGyroJerk-iqr()-X'),\n",
       " (0.0, 'tBodyGyroJerk-entropy()-Z'),\n",
       " (0.0, 'tBodyGyroJerk-entropy()-Y'),\n",
       " (0.0, 'tBodyGyroJerk-entropy()-X'),\n",
       " (0.0, 'tBodyGyroJerk-energy()-Z'),\n",
       " (0.0, 'tBodyGyroJerk-energy()-Y'),\n",
       " (0.0, 'tBodyGyroJerk-energy()-X'),\n",
       " (0.0, 'tBodyGyroJerk-correlation()-Y,Z'),\n",
       " (0.0, 'tBodyGyroJerk-correlation()-X,Z'),\n",
       " (0.0, 'tBodyGyroJerk-correlation()-X,Y'),\n",
       " (0.0, 'tBodyGyroJerk-arCoeff()-Z,4'),\n",
       " (0.0, 'tBodyGyroJerk-arCoeff()-Z,3'),\n",
       " (0.0, 'tBodyGyroJerk-arCoeff()-Z,2'),\n",
       " (0.0, 'tBodyGyroJerk-arCoeff()-Z,1'),\n",
       " (0.0, 'tBodyGyroJerk-arCoeff()-Y,4'),\n",
       " (0.0, 'tBodyGyroJerk-arCoeff()-Y,3'),\n",
       " (0.0, 'tBodyGyroJerk-arCoeff()-Y,2'),\n",
       " (0.0, 'tBodyGyroJerk-arCoeff()-Y,1'),\n",
       " (0.0, 'tBodyGyroJerk-arCoeff()-X,4'),\n",
       " (0.0, 'tBodyGyroJerk-arCoeff()-X,3'),\n",
       " (0.0, 'tBodyGyroJerk-arCoeff()-X,2'),\n",
       " (0.0, 'tBodyGyroJerk-arCoeff()-X,1'),\n",
       " (0.0, 'tBodyGyro-std()-Z'),\n",
       " (0.0, 'tBodyGyro-std()-Y'),\n",
       " (0.0, 'tBodyGyro-std()-X'),\n",
       " (0.0, 'tBodyGyro-sma()'),\n",
       " (0.0, 'tBodyGyro-min()-Z'),\n",
       " (0.0, 'tBodyGyro-min()-Y'),\n",
       " (0.0, 'tBodyGyro-min()-X'),\n",
       " (0.0, 'tBodyGyro-mean()-Z'),\n",
       " (0.0, 'tBodyGyro-mean()-Y'),\n",
       " (0.0, 'tBodyGyro-mean()-X'),\n",
       " (0.0, 'tBodyGyro-max()-Z'),\n",
       " (0.0, 'tBodyGyro-max()-Y'),\n",
       " (0.0, 'tBodyGyro-max()-X'),\n",
       " (0.0, 'tBodyGyro-mad()-Z'),\n",
       " (0.0, 'tBodyGyro-mad()-Y'),\n",
       " (0.0, 'tBodyGyro-mad()-X'),\n",
       " (0.0, 'tBodyGyro-iqr()-Z'),\n",
       " (0.0, 'tBodyGyro-iqr()-Y'),\n",
       " (0.0, 'tBodyGyro-iqr()-X'),\n",
       " (0.0, 'tBodyGyro-entropy()-Z'),\n",
       " (0.0, 'tBodyGyro-entropy()-Y'),\n",
       " (0.0, 'tBodyGyro-entropy()-X'),\n",
       " (0.0, 'tBodyGyro-energy()-Z'),\n",
       " (0.0, 'tBodyGyro-energy()-Y'),\n",
       " (0.0, 'tBodyGyro-energy()-X'),\n",
       " (0.0, 'tBodyGyro-correlation()-X,Z'),\n",
       " (0.0, 'tBodyGyro-correlation()-X,Y'),\n",
       " (0.0, 'tBodyGyro-arCoeff()-Z,4'),\n",
       " (0.0, 'tBodyGyro-arCoeff()-Z,3'),\n",
       " (0.0, 'tBodyGyro-arCoeff()-Z,2'),\n",
       " (0.0, 'tBodyGyro-arCoeff()-Z,1'),\n",
       " (0.0, 'tBodyGyro-arCoeff()-Y,4'),\n",
       " (0.0, 'tBodyGyro-arCoeff()-Y,3'),\n",
       " (0.0, 'tBodyGyro-arCoeff()-Y,2'),\n",
       " (0.0, 'tBodyGyro-arCoeff()-Y,1'),\n",
       " (0.0, 'tBodyGyro-arCoeff()-X,4'),\n",
       " (0.0, 'tBodyGyro-arCoeff()-X,3'),\n",
       " (0.0, 'tBodyGyro-arCoeff()-X,2'),\n",
       " (0.0, 'tBodyGyro-arCoeff()-X,1'),\n",
       " (0.0, 'tBodyAccMag-std()'),\n",
       " (0.0, 'tBodyAccMag-sma()'),\n",
       " (0.0, 'tBodyAccMag-min()'),\n",
       " (0.0, 'tBodyAccMag-mean()'),\n",
       " (0.0, 'tBodyAccMag-max()'),\n",
       " (0.0, 'tBodyAccMag-mad()'),\n",
       " (0.0, 'tBodyAccMag-iqr()'),\n",
       " (0.0, 'tBodyAccMag-entropy()'),\n",
       " (0.0, 'tBodyAccMag-energy()'),\n",
       " (0.0, 'tBodyAccMag-arCoeff()4'),\n",
       " (0.0, 'tBodyAccMag-arCoeff()3'),\n",
       " (0.0, 'tBodyAccMag-arCoeff()2'),\n",
       " (0.0, 'tBodyAccMag-arCoeff()1'),\n",
       " (0.0, 'tBodyAccJerkMag-std()'),\n",
       " (0.0, 'tBodyAccJerkMag-sma()'),\n",
       " (0.0, 'tBodyAccJerkMag-min()'),\n",
       " (0.0, 'tBodyAccJerkMag-mean()'),\n",
       " (0.0, 'tBodyAccJerkMag-max()'),\n",
       " (0.0, 'tBodyAccJerkMag-mad()'),\n",
       " (0.0, 'tBodyAccJerkMag-iqr()'),\n",
       " (0.0, 'tBodyAccJerkMag-entropy()'),\n",
       " (0.0, 'tBodyAccJerkMag-energy()'),\n",
       " (0.0, 'tBodyAccJerkMag-arCoeff()4'),\n",
       " (0.0, 'tBodyAccJerkMag-arCoeff()3'),\n",
       " (0.0, 'tBodyAccJerkMag-arCoeff()2'),\n",
       " (0.0, 'tBodyAccJerkMag-arCoeff()1'),\n",
       " (0.0, 'tBodyAccJerk-std()-Z'),\n",
       " (0.0, 'tBodyAccJerk-std()-Y'),\n",
       " (0.0, 'tBodyAccJerk-std()-X'),\n",
       " (0.0, 'tBodyAccJerk-sma()'),\n",
       " (0.0, 'tBodyAccJerk-min()-Z'),\n",
       " (0.0, 'tBodyAccJerk-min()-Y'),\n",
       " (0.0, 'tBodyAccJerk-min()-X'),\n",
       " (0.0, 'tBodyAccJerk-mean()-Z'),\n",
       " (0.0, 'tBodyAccJerk-mean()-Y'),\n",
       " (0.0, 'tBodyAccJerk-mean()-X'),\n",
       " (0.0, 'tBodyAccJerk-max()-Z'),\n",
       " (0.0, 'tBodyAccJerk-max()-Y'),\n",
       " (0.0, 'tBodyAccJerk-max()-X'),\n",
       " (0.0, 'tBodyAccJerk-mad()-Z'),\n",
       " (0.0, 'tBodyAccJerk-mad()-Y'),\n",
       " (0.0, 'tBodyAccJerk-mad()-X'),\n",
       " (0.0, 'tBodyAccJerk-iqr()-Z'),\n",
       " (0.0, 'tBodyAccJerk-iqr()-Y'),\n",
       " (0.0, 'tBodyAccJerk-iqr()-X'),\n",
       " (0.0, 'tBodyAccJerk-entropy()-Z'),\n",
       " (0.0, 'tBodyAccJerk-entropy()-Y'),\n",
       " (0.0, 'tBodyAccJerk-entropy()-X'),\n",
       " (0.0, 'tBodyAccJerk-energy()-Z'),\n",
       " (0.0, 'tBodyAccJerk-energy()-Y'),\n",
       " (0.0, 'tBodyAccJerk-energy()-X'),\n",
       " (0.0, 'tBodyAccJerk-correlation()-Y,Z'),\n",
       " (0.0, 'tBodyAccJerk-correlation()-X,Z'),\n",
       " (0.0, 'tBodyAccJerk-correlation()-X,Y'),\n",
       " (0.0, 'tBodyAccJerk-arCoeff()-Z,4'),\n",
       " (0.0, 'tBodyAccJerk-arCoeff()-Z,3'),\n",
       " (0.0, 'tBodyAccJerk-arCoeff()-Z,2'),\n",
       " (0.0, 'tBodyAccJerk-arCoeff()-Z,1'),\n",
       " (0.0, 'tBodyAccJerk-arCoeff()-Y,4'),\n",
       " (0.0, 'tBodyAccJerk-arCoeff()-Y,3'),\n",
       " (0.0, 'tBodyAccJerk-arCoeff()-Y,2'),\n",
       " (0.0, 'tBodyAccJerk-arCoeff()-Y,1'),\n",
       " (0.0, 'tBodyAccJerk-arCoeff()-X,4'),\n",
       " (0.0, 'tBodyAccJerk-arCoeff()-X,3'),\n",
       " (0.0, 'tBodyAccJerk-arCoeff()-X,2'),\n",
       " (0.0, 'tBodyAccJerk-arCoeff()-X,1'),\n",
       " (0.0, 'tBodyAcc-std()-Z'),\n",
       " (0.0, 'tBodyAcc-std()-Y'),\n",
       " (0.0, 'tBodyAcc-std()-X'),\n",
       " (0.0, 'tBodyAcc-sma()'),\n",
       " (0.0, 'tBodyAcc-min()-Z'),\n",
       " (0.0, 'tBodyAcc-min()-Y'),\n",
       " (0.0, 'tBodyAcc-min()-X'),\n",
       " (0.0, 'tBodyAcc-mean()-Z'),\n",
       " (0.0, 'tBodyAcc-mean()-Y'),\n",
       " (0.0, 'tBodyAcc-mean()-X'),\n",
       " (0.0, 'tBodyAcc-max()-Z'),\n",
       " (0.0, 'tBodyAcc-max()-Y'),\n",
       " (0.0, 'tBodyAcc-max()-X'),\n",
       " (0.0, 'tBodyAcc-mad()-Z'),\n",
       " (0.0, 'tBodyAcc-mad()-Y'),\n",
       " (0.0, 'tBodyAcc-mad()-X'),\n",
       " (0.0, 'tBodyAcc-iqr()-Z'),\n",
       " (0.0, 'tBodyAcc-iqr()-Y'),\n",
       " (0.0, 'tBodyAcc-iqr()-X'),\n",
       " (0.0, 'tBodyAcc-entropy()-Z'),\n",
       " (0.0, 'tBodyAcc-entropy()-Y'),\n",
       " (0.0, 'tBodyAcc-entropy()-X'),\n",
       " (0.0, 'tBodyAcc-energy()-Z'),\n",
       " (0.0, 'tBodyAcc-energy()-Y'),\n",
       " (0.0, 'tBodyAcc-energy()-X'),\n",
       " (0.0, 'tBodyAcc-correlation()-Y,Z'),\n",
       " (0.0, 'tBodyAcc-correlation()-X,Z'),\n",
       " (0.0, 'tBodyAcc-correlation()-X,Y'),\n",
       " (0.0, 'tBodyAcc-arCoeff()-Z,4'),\n",
       " (0.0, 'tBodyAcc-arCoeff()-Z,3'),\n",
       " (0.0, 'tBodyAcc-arCoeff()-Z,2'),\n",
       " (0.0, 'tBodyAcc-arCoeff()-Z,1'),\n",
       " (0.0, 'tBodyAcc-arCoeff()-Y,4'),\n",
       " (0.0, 'tBodyAcc-arCoeff()-Y,3'),\n",
       " (0.0, 'tBodyAcc-arCoeff()-Y,2'),\n",
       " (0.0, 'tBodyAcc-arCoeff()-Y,1'),\n",
       " (0.0, 'tBodyAcc-arCoeff()-X,4'),\n",
       " (0.0, 'tBodyAcc-arCoeff()-X,3'),\n",
       " (0.0, 'tBodyAcc-arCoeff()-X,2'),\n",
       " (0.0, 'tBodyAcc-arCoeff()-X,1'),\n",
       " (0.0, 'fBodyGyro-std()-Z'),\n",
       " (0.0, 'fBodyGyro-std()-Y'),\n",
       " (0.0, 'fBodyGyro-sma()'),\n",
       " (0.0, 'fBodyGyro-skewness()-Z'),\n",
       " (0.0, 'fBodyGyro-skewness()-Y'),\n",
       " (0.0, 'fBodyGyro-skewness()-X'),\n",
       " (0.0, 'fBodyGyro-min()-Z'),\n",
       " (0.0, 'fBodyGyro-min()-Y'),\n",
       " (0.0, 'fBodyGyro-min()-X'),\n",
       " (0.0, 'fBodyGyro-meanFreq()-Z'),\n",
       " (0.0, 'fBodyGyro-meanFreq()-Y'),\n",
       " (0.0, 'fBodyGyro-meanFreq()-X'),\n",
       " (0.0, 'fBodyGyro-mean()-Z'),\n",
       " (0.0, 'fBodyGyro-mean()-Y'),\n",
       " (0.0, 'fBodyGyro-mean()-X'),\n",
       " (0.0, 'fBodyGyro-maxInds-Z'),\n",
       " (0.0, 'fBodyGyro-maxInds-Y'),\n",
       " (0.0, 'fBodyGyro-maxInds-X'),\n",
       " (0.0, 'fBodyGyro-max()-Z'),\n",
       " (0.0, 'fBodyGyro-max()-Y'),\n",
       " (0.0, 'fBodyGyro-max()-X'),\n",
       " (0.0, 'fBodyGyro-mad()-Z'),\n",
       " (0.0, 'fBodyGyro-mad()-Y'),\n",
       " (0.0, 'fBodyGyro-mad()-X'),\n",
       " (0.0, 'fBodyGyro-kurtosis()-Z'),\n",
       " (0.0, 'fBodyGyro-kurtosis()-Y'),\n",
       " (0.0, 'fBodyGyro-kurtosis()-X'),\n",
       " (0.0, 'fBodyGyro-iqr()-Z'),\n",
       " (0.0, 'fBodyGyro-iqr()-Y'),\n",
       " (0.0, 'fBodyGyro-iqr()-X'),\n",
       " (0.0, 'fBodyGyro-entropy()-Z'),\n",
       " (0.0, 'fBodyGyro-entropy()-Y'),\n",
       " (0.0, 'fBodyGyro-entropy()-X'),\n",
       " (0.0, 'fBodyGyro-energy()-Z'),\n",
       " (0.0, 'fBodyGyro-energy()-Y'),\n",
       " (0.0, 'fBodyGyro-energy()-X'),\n",
       " (0.0, 'fBodyGyro-bandsEnergy()-9,16.2'),\n",
       " (0.0, 'fBodyGyro-bandsEnergy()-9,16.1'),\n",
       " (0.0, 'fBodyGyro-bandsEnergy()-9,16'),\n",
       " (0.0, 'fBodyGyro-bandsEnergy()-57,64.2'),\n",
       " (0.0, 'fBodyGyro-bandsEnergy()-57,64.1'),\n",
       " (0.0, 'fBodyGyro-bandsEnergy()-57,64'),\n",
       " (0.0, 'fBodyGyro-bandsEnergy()-49,64.2'),\n",
       " (0.0, 'fBodyGyro-bandsEnergy()-49,64.1'),\n",
       " (0.0, 'fBodyGyro-bandsEnergy()-49,64'),\n",
       " (0.0, 'fBodyGyro-bandsEnergy()-49,56.2'),\n",
       " (0.0, 'fBodyGyro-bandsEnergy()-49,56.1'),\n",
       " (0.0, 'fBodyGyro-bandsEnergy()-49,56'),\n",
       " (0.0, 'fBodyGyro-bandsEnergy()-41,48.2'),\n",
       " (0.0, 'fBodyGyro-bandsEnergy()-41,48.1'),\n",
       " (0.0, 'fBodyGyro-bandsEnergy()-41,48'),\n",
       " (0.0, 'fBodyGyro-bandsEnergy()-33,48.2'),\n",
       " (0.0, 'fBodyGyro-bandsEnergy()-33,48.1'),\n",
       " (0.0, 'fBodyGyro-bandsEnergy()-33,48'),\n",
       " (0.0, 'fBodyGyro-bandsEnergy()-33,40.2'),\n",
       " (0.0, 'fBodyGyro-bandsEnergy()-33,40.1'),\n",
       " (0.0, 'fBodyGyro-bandsEnergy()-33,40'),\n",
       " (0.0, 'fBodyGyro-bandsEnergy()-25,48.2'),\n",
       " (0.0, 'fBodyGyro-bandsEnergy()-25,48.1'),\n",
       " (0.0, 'fBodyGyro-bandsEnergy()-25,48'),\n",
       " (0.0, 'fBodyGyro-bandsEnergy()-25,32.2'),\n",
       " (0.0, 'fBodyGyro-bandsEnergy()-25,32.1'),\n",
       " (0.0, 'fBodyGyro-bandsEnergy()-25,32'),\n",
       " (0.0, 'fBodyGyro-bandsEnergy()-17,32.2'),\n",
       " (0.0, 'fBodyGyro-bandsEnergy()-17,32.1'),\n",
       " (0.0, 'fBodyGyro-bandsEnergy()-17,32'),\n",
       " (0.0, 'fBodyGyro-bandsEnergy()-17,24.2'),\n",
       " (0.0, 'fBodyGyro-bandsEnergy()-17,24.1'),\n",
       " (0.0, 'fBodyGyro-bandsEnergy()-17,24'),\n",
       " (0.0, 'fBodyGyro-bandsEnergy()-1,8.2'),\n",
       " (0.0, 'fBodyGyro-bandsEnergy()-1,8.1'),\n",
       " (0.0, 'fBodyGyro-bandsEnergy()-1,8'),\n",
       " (0.0, 'fBodyGyro-bandsEnergy()-1,24.2'),\n",
       " (0.0, 'fBodyGyro-bandsEnergy()-1,24.1'),\n",
       " (0.0, 'fBodyGyro-bandsEnergy()-1,24'),\n",
       " (0.0, 'fBodyGyro-bandsEnergy()-1,16.2'),\n",
       " (0.0, 'fBodyGyro-bandsEnergy()-1,16.1'),\n",
       " (0.0, 'fBodyGyro-bandsEnergy()-1,16'),\n",
       " (0.0, 'fBodyBodyGyroMag-std()'),\n",
       " (0.0, 'fBodyBodyGyroMag-sma()'),\n",
       " (0.0, 'fBodyBodyGyroMag-skewness()'),\n",
       " (0.0, 'fBodyBodyGyroMag-min()'),\n",
       " (0.0, 'fBodyBodyGyroMag-meanFreq()'),\n",
       " (0.0, 'fBodyBodyGyroMag-mean()'),\n",
       " (0.0, 'fBodyBodyGyroMag-maxInds'),\n",
       " (0.0, 'fBodyBodyGyroMag-max()'),\n",
       " (0.0, 'fBodyBodyGyroMag-mad()'),\n",
       " (0.0, 'fBodyBodyGyroMag-kurtosis()'),\n",
       " (0.0, 'fBodyBodyGyroMag-iqr()'),\n",
       " (0.0, 'fBodyBodyGyroMag-entropy()'),\n",
       " (0.0, 'fBodyBodyGyroMag-energy()'),\n",
       " (0.0, 'fBodyBodyGyroJerkMag-std()'),\n",
       " (0.0, 'fBodyBodyGyroJerkMag-sma()'),\n",
       " (0.0, 'fBodyBodyGyroJerkMag-skewness()'),\n",
       " (0.0, 'fBodyBodyGyroJerkMag-min()'),\n",
       " (0.0, 'fBodyBodyGyroJerkMag-meanFreq()'),\n",
       " (0.0, 'fBodyBodyGyroJerkMag-mean()'),\n",
       " (0.0, 'fBodyBodyGyroJerkMag-maxInds'),\n",
       " (0.0, 'fBodyBodyGyroJerkMag-max()'),\n",
       " (0.0, 'fBodyBodyGyroJerkMag-mad()'),\n",
       " (0.0, 'fBodyBodyGyroJerkMag-kurtosis()'),\n",
       " (0.0, 'fBodyBodyGyroJerkMag-iqr()'),\n",
       " (0.0, 'fBodyBodyGyroJerkMag-entropy()'),\n",
       " (0.0, 'fBodyBodyGyroJerkMag-energy()'),\n",
       " (0.0, 'fBodyBodyAccJerkMag-std()'),\n",
       " (0.0, 'fBodyBodyAccJerkMag-sma()'),\n",
       " (0.0, 'fBodyBodyAccJerkMag-skewness()'),\n",
       " (0.0, 'fBodyBodyAccJerkMag-min()'),\n",
       " (0.0, 'fBodyBodyAccJerkMag-meanFreq()'),\n",
       " (0.0, 'fBodyBodyAccJerkMag-mean()'),\n",
       " (0.0, 'fBodyBodyAccJerkMag-maxInds'),\n",
       " (0.0, 'fBodyBodyAccJerkMag-max()'),\n",
       " (0.0, 'fBodyBodyAccJerkMag-mad()'),\n",
       " (0.0, 'fBodyBodyAccJerkMag-kurtosis()'),\n",
       " (0.0, 'fBodyBodyAccJerkMag-iqr()'),\n",
       " (0.0, 'fBodyBodyAccJerkMag-entropy()'),\n",
       " (0.0, 'fBodyBodyAccJerkMag-energy()'),\n",
       " (0.0, 'fBodyAccMag-std()'),\n",
       " (0.0, 'fBodyAccMag-sma()'),\n",
       " (0.0, 'fBodyAccMag-skewness()'),\n",
       " (0.0, 'fBodyAccMag-min()'),\n",
       " (0.0, 'fBodyAccMag-meanFreq()'),\n",
       " (0.0, 'fBodyAccMag-mean()'),\n",
       " (0.0, 'fBodyAccMag-maxInds'),\n",
       " (0.0, 'fBodyAccMag-max()'),\n",
       " (0.0, 'fBodyAccMag-mad()'),\n",
       " (0.0, 'fBodyAccMag-kurtosis()'),\n",
       " (0.0, 'fBodyAccMag-iqr()'),\n",
       " (0.0, 'fBodyAccMag-entropy()'),\n",
       " (0.0, 'fBodyAccJerk-std()-Z'),\n",
       " (0.0, 'fBodyAccJerk-std()-Y'),\n",
       " (0.0, 'fBodyAccJerk-std()-X'),\n",
       " (0.0, 'fBodyAccJerk-sma()'),\n",
       " (0.0, 'fBodyAccJerk-skewness()-Z'),\n",
       " (0.0, 'fBodyAccJerk-skewness()-Y'),\n",
       " (0.0, 'fBodyAccJerk-skewness()-X'),\n",
       " (0.0, 'fBodyAccJerk-min()-Z'),\n",
       " (0.0, 'fBodyAccJerk-min()-Y'),\n",
       " (0.0, 'fBodyAccJerk-min()-X'),\n",
       " (0.0, 'fBodyAccJerk-meanFreq()-Z'),\n",
       " (0.0, 'fBodyAccJerk-meanFreq()-Y'),\n",
       " (0.0, 'fBodyAccJerk-meanFreq()-X'),\n",
       " (0.0, 'fBodyAccJerk-mean()-Z'),\n",
       " (0.0, 'fBodyAccJerk-mean()-Y'),\n",
       " (0.0, 'fBodyAccJerk-mean()-X'),\n",
       " (0.0, 'fBodyAccJerk-maxInds-Z'),\n",
       " (0.0, 'fBodyAccJerk-maxInds-Y'),\n",
       " (0.0, 'fBodyAccJerk-maxInds-X'),\n",
       " (0.0, 'fBodyAccJerk-max()-Z'),\n",
       " (0.0, 'fBodyAccJerk-max()-Y'),\n",
       " (0.0, 'fBodyAccJerk-max()-X'),\n",
       " (0.0, 'fBodyAccJerk-mad()-Z'),\n",
       " (0.0, 'fBodyAccJerk-mad()-Y'),\n",
       " (0.0, 'fBodyAccJerk-mad()-X'),\n",
       " (0.0, 'fBodyAccJerk-kurtosis()-Z'),\n",
       " (0.0, 'fBodyAccJerk-kurtosis()-Y'),\n",
       " (0.0, 'fBodyAccJerk-kurtosis()-X'),\n",
       " (0.0, 'fBodyAccJerk-iqr()-Z'),\n",
       " (0.0, 'fBodyAccJerk-iqr()-Y'),\n",
       " (0.0, 'fBodyAccJerk-iqr()-X'),\n",
       " (0.0, 'fBodyAccJerk-entropy()-Z'),\n",
       " (0.0, 'fBodyAccJerk-entropy()-Y'),\n",
       " (0.0, 'fBodyAccJerk-entropy()-X'),\n",
       " (0.0, 'fBodyAccJerk-energy()-Z'),\n",
       " (0.0, 'fBodyAccJerk-energy()-Y'),\n",
       " (0.0, 'fBodyAccJerk-energy()-X'),\n",
       " (0.0, 'fBodyAccJerk-bandsEnergy()-9,16.2'),\n",
       " (0.0, 'fBodyAccJerk-bandsEnergy()-9,16.1'),\n",
       " (0.0, 'fBodyAccJerk-bandsEnergy()-9,16'),\n",
       " (0.0, 'fBodyAccJerk-bandsEnergy()-57,64.2'),\n",
       " (0.0, 'fBodyAccJerk-bandsEnergy()-57,64.1'),\n",
       " (0.0, 'fBodyAccJerk-bandsEnergy()-57,64'),\n",
       " (0.0, 'fBodyAccJerk-bandsEnergy()-49,64.2'),\n",
       " (0.0, 'fBodyAccJerk-bandsEnergy()-49,64.1'),\n",
       " (0.0, 'fBodyAccJerk-bandsEnergy()-49,64'),\n",
       " (0.0, 'fBodyAccJerk-bandsEnergy()-49,56.2'),\n",
       " (0.0, 'fBodyAccJerk-bandsEnergy()-49,56.1'),\n",
       " (0.0, 'fBodyAccJerk-bandsEnergy()-49,56'),\n",
       " (0.0, 'fBodyAccJerk-bandsEnergy()-41,48.2'),\n",
       " (0.0, 'fBodyAccJerk-bandsEnergy()-41,48.1'),\n",
       " (0.0, 'fBodyAccJerk-bandsEnergy()-41,48'),\n",
       " (0.0, 'fBodyAccJerk-bandsEnergy()-33,48.2'),\n",
       " (0.0, 'fBodyAccJerk-bandsEnergy()-33,48.1'),\n",
       " (0.0, 'fBodyAccJerk-bandsEnergy()-33,48'),\n",
       " (0.0, 'fBodyAccJerk-bandsEnergy()-33,40.2'),\n",
       " (0.0, 'fBodyAccJerk-bandsEnergy()-33,40.1'),\n",
       " (0.0, 'fBodyAccJerk-bandsEnergy()-33,40'),\n",
       " (0.0, 'fBodyAccJerk-bandsEnergy()-25,48.2'),\n",
       " (0.0, 'fBodyAccJerk-bandsEnergy()-25,48.1'),\n",
       " (0.0, 'fBodyAccJerk-bandsEnergy()-25,48'),\n",
       " (0.0, 'fBodyAccJerk-bandsEnergy()-25,32.2'),\n",
       " (0.0, 'fBodyAccJerk-bandsEnergy()-25,32.1'),\n",
       " (0.0, 'fBodyAccJerk-bandsEnergy()-25,32'),\n",
       " (0.0, 'fBodyAccJerk-bandsEnergy()-17,32.2'),\n",
       " (0.0, 'fBodyAccJerk-bandsEnergy()-17,32.1'),\n",
       " (0.0, 'fBodyAccJerk-bandsEnergy()-17,32'),\n",
       " (0.0, 'fBodyAccJerk-bandsEnergy()-17,24.2'),\n",
       " (0.0, 'fBodyAccJerk-bandsEnergy()-17,24.1'),\n",
       " (0.0, 'fBodyAccJerk-bandsEnergy()-17,24'),\n",
       " (0.0, 'fBodyAccJerk-bandsEnergy()-1,8.2'),\n",
       " (0.0, 'fBodyAccJerk-bandsEnergy()-1,8.1'),\n",
       " (0.0, 'fBodyAccJerk-bandsEnergy()-1,8'),\n",
       " (0.0, 'fBodyAccJerk-bandsEnergy()-1,24.2'),\n",
       " (0.0, 'fBodyAccJerk-bandsEnergy()-1,24.1'),\n",
       " (0.0, 'fBodyAccJerk-bandsEnergy()-1,24'),\n",
       " (0.0, 'fBodyAccJerk-bandsEnergy()-1,16.2'),\n",
       " (0.0, 'fBodyAccJerk-bandsEnergy()-1,16.1'),\n",
       " (0.0, 'fBodyAccJerk-bandsEnergy()-1,16'),\n",
       " (0.0, 'fBodyAcc-std()-Z'),\n",
       " (0.0, 'fBodyAcc-std()-Y'),\n",
       " (0.0, 'fBodyAcc-std()-X'),\n",
       " (0.0, 'fBodyAcc-sma()'),\n",
       " (0.0, 'fBodyAcc-skewness()-Z'),\n",
       " (0.0, 'fBodyAcc-skewness()-Y'),\n",
       " (0.0, 'fBodyAcc-skewness()-X'),\n",
       " (0.0, 'fBodyAcc-min()-Z'),\n",
       " (0.0, 'fBodyAcc-min()-Y'),\n",
       " (0.0, 'fBodyAcc-min()-X'),\n",
       " (0.0, 'fBodyAcc-meanFreq()-Z'),\n",
       " (0.0, 'fBodyAcc-meanFreq()-Y'),\n",
       " (0.0, 'fBodyAcc-meanFreq()-X'),\n",
       " (0.0, 'fBodyAcc-mean()-Z'),\n",
       " (0.0, 'fBodyAcc-mean()-Y'),\n",
       " (0.0, 'fBodyAcc-maxInds-Z'),\n",
       " (0.0, 'fBodyAcc-maxInds-Y'),\n",
       " (0.0, 'fBodyAcc-maxInds-X'),\n",
       " (0.0, 'fBodyAcc-max()-Z'),\n",
       " (0.0, 'fBodyAcc-max()-Y'),\n",
       " (0.0, 'fBodyAcc-max()-X'),\n",
       " (0.0, 'fBodyAcc-mad()-Z'),\n",
       " (0.0, 'fBodyAcc-mad()-Y'),\n",
       " (0.0, 'fBodyAcc-mad()-X'),\n",
       " (0.0, 'fBodyAcc-kurtosis()-Z'),\n",
       " (0.0, 'fBodyAcc-kurtosis()-Y'),\n",
       " (0.0, 'fBodyAcc-kurtosis()-X'),\n",
       " (0.0, 'fBodyAcc-iqr()-Z'),\n",
       " (0.0, 'fBodyAcc-iqr()-Y'),\n",
       " (0.0, 'fBodyAcc-iqr()-X'),\n",
       " (0.0, 'fBodyAcc-entropy()-Z'),\n",
       " (0.0, 'fBodyAcc-entropy()-Y'),\n",
       " (0.0, 'fBodyAcc-entropy()-X'),\n",
       " (0.0, 'fBodyAcc-energy()-Z'),\n",
       " (0.0, 'fBodyAcc-energy()-Y'),\n",
       " (0.0, 'fBodyAcc-energy()-X'),\n",
       " (0.0, 'fBodyAcc-bandsEnergy()-9,16.2'),\n",
       " (0.0, 'fBodyAcc-bandsEnergy()-9,16.1'),\n",
       " (0.0, 'fBodyAcc-bandsEnergy()-9,16'),\n",
       " (0.0, 'fBodyAcc-bandsEnergy()-57,64.2'),\n",
       " (0.0, 'fBodyAcc-bandsEnergy()-57,64.1'),\n",
       " (0.0, 'fBodyAcc-bandsEnergy()-57,64'),\n",
       " (0.0, 'fBodyAcc-bandsEnergy()-49,64.2'),\n",
       " (0.0, 'fBodyAcc-bandsEnergy()-49,64.1'),\n",
       " (0.0, 'fBodyAcc-bandsEnergy()-49,64'),\n",
       " (0.0, 'fBodyAcc-bandsEnergy()-49,56.2'),\n",
       " (0.0, 'fBodyAcc-bandsEnergy()-49,56.1'),\n",
       " (0.0, 'fBodyAcc-bandsEnergy()-49,56'),\n",
       " (0.0, 'fBodyAcc-bandsEnergy()-41,48.2'),\n",
       " (0.0, 'fBodyAcc-bandsEnergy()-41,48.1'),\n",
       " (0.0, 'fBodyAcc-bandsEnergy()-41,48'),\n",
       " (0.0, 'fBodyAcc-bandsEnergy()-33,48.2'),\n",
       " (0.0, 'fBodyAcc-bandsEnergy()-33,48.1'),\n",
       " (0.0, 'fBodyAcc-bandsEnergy()-33,48'),\n",
       " (0.0, 'fBodyAcc-bandsEnergy()-33,40.2'),\n",
       " (0.0, 'fBodyAcc-bandsEnergy()-33,40.1'),\n",
       " (0.0, 'fBodyAcc-bandsEnergy()-33,40'),\n",
       " (0.0, 'fBodyAcc-bandsEnergy()-25,48.2'),\n",
       " (0.0, 'fBodyAcc-bandsEnergy()-25,48.1'),\n",
       " (0.0, 'fBodyAcc-bandsEnergy()-25,48'),\n",
       " (0.0, 'fBodyAcc-bandsEnergy()-25,32.2'),\n",
       " (0.0, 'fBodyAcc-bandsEnergy()-25,32.1'),\n",
       " (0.0, 'fBodyAcc-bandsEnergy()-25,32'),\n",
       " (0.0, 'fBodyAcc-bandsEnergy()-17,32.2'),\n",
       " (0.0, 'fBodyAcc-bandsEnergy()-17,32.1'),\n",
       " (0.0, 'fBodyAcc-bandsEnergy()-17,32'),\n",
       " (0.0, 'fBodyAcc-bandsEnergy()-17,24.2'),\n",
       " (0.0, 'fBodyAcc-bandsEnergy()-17,24.1'),\n",
       " (0.0, 'fBodyAcc-bandsEnergy()-17,24'),\n",
       " (0.0, 'fBodyAcc-bandsEnergy()-1,8.2'),\n",
       " (0.0, 'fBodyAcc-bandsEnergy()-1,8.1'),\n",
       " (0.0, 'fBodyAcc-bandsEnergy()-1,8'),\n",
       " (0.0, 'fBodyAcc-bandsEnergy()-1,24.2'),\n",
       " (0.0, 'fBodyAcc-bandsEnergy()-1,24.1'),\n",
       " (0.0, 'fBodyAcc-bandsEnergy()-1,24'),\n",
       " (0.0, 'fBodyAcc-bandsEnergy()-1,16.2'),\n",
       " (0.0, 'fBodyAcc-bandsEnergy()-1,16.1'),\n",
       " (0.0, 'fBodyAcc-bandsEnergy()-1,16'),\n",
       " (0.0, 'angle(tBodyGyroMean,gravityMean)'),\n",
       " (0.0, 'angle(tBodyGyroJerkMean,gravityMean)'),\n",
       " (0.0, 'angle(tBodyAccMean,gravity)'),\n",
       " (0.0, 'angle(tBodyAccJerkMean),gravityMean)'),\n",
       " (0.0, 'angle(Z,gravityMean)'),\n",
       " (0.0, 'angle(Y,gravityMean)'),\n",
       " (0.0, 'angle(X,gravityMean)'),\n",
       " (0.0, 'Unnamed: 1')]"
      ]
     },
     "execution_count": 10,
     "metadata": {},
     "output_type": "execute_result"
    }
   ],
   "source": [
    "importance_sorted"
   ]
  },
  {
   "cell_type": "markdown",
   "metadata": {},
   "source": [
    "### 4. Construa uma árvore com as 3 melhores variáveis\n",
    "\n",
    "Utilizando as três variáveis encontradas acima, construa uma árvore de decisão. Encontre o melhor ```ccp_alpha``` utilizando a base de validação, conforme a estrutura que vimos em aula."
   ]
  },
  {
   "cell_type": "code",
   "execution_count": 11,
   "metadata": {},
   "outputs": [],
   "source": [
    "X_train1=X_train[['tGravityAcc-min()-X','tBodyAcc-mean()-Y','tGravityAcc-mean()-Y']]\n",
    "X_test1=X_test[['tGravityAcc-min()-X','tBodyAcc-mean()-Y','tGravityAcc-mean()-Y']]\n",
    "X_valid1=X_valid[['tGravityAcc-min()-X','tBodyAcc-mean()-Y','tGravityAcc-mean()-Y']]"
   ]
  },
  {
   "cell_type": "code",
   "execution_count": 12,
   "metadata": {},
   "outputs": [],
   "source": [
    "clf = DecisionTreeClassifier(random_state=47, max_depth=4).fit(X_train1, y_train)"
   ]
  },
  {
   "cell_type": "code",
   "execution_count": 13,
   "metadata": {},
   "outputs": [],
   "source": [
    "path = clf.cost_complexity_pruning_path(X_train1, y_train)\n",
    "ccp_alphas, impurities = path.ccp_alphas, path.impurities"
   ]
  },
  {
   "cell_type": "code",
   "execution_count": 14,
   "metadata": {},
   "outputs": [],
   "source": [
    "clfs = []\n",
    "for ccp_alpha in ccp_alphas:\n",
    "    clf = DecisionTreeClassifier(random_state=47, ccp_alpha=ccp_alpha).fit(X_train1, y_train)\n",
    "    clfs.append(clf)"
   ]
  },
  {
   "cell_type": "code",
   "execution_count": 15,
   "metadata": {},
   "outputs": [
    {
     "data": {
      "image/png": "[encoded data removed]",
      "text/plain": [
       "<Figure size 640x480 with 1 Axes>"
      ]
     },
     "metadata": {},
     "output_type": "display_data"
    }
   ],
   "source": [
    "train_scores = [clf.score(X_train1, y_train) for clf in clfs]\n",
    "test_scores  = [clf.score(X_valid1, y_valid)   for clf in clfs]\n",
    "\n",
    "fig, ax = plt.subplots()\n",
    "ax.set_xlabel(\"alpha\")\n",
    "ax.set_ylabel(\"Acurácia\")\n",
    "ax.set_title(\"Acurácia x alpha do conjunto de dados de treino e teste\")\n",
    "ax.plot(ccp_alphas, train_scores, marker='o', label=\"treino\",\n",
    "        drawstyle=\"steps-post\")\n",
    "ax.plot(ccp_alphas, test_scores, marker='o', label=\"valid\",\n",
    "        drawstyle=\"steps-post\")\n",
    "ax.legend()\n",
    "plt.show()"
   ]
  },
  {
   "cell_type": "code",
   "execution_count": 16,
   "metadata": {},
   "outputs": [
    {
     "data": {
      "text/plain": [
       "DecisionTreeClassifier(ccp_alpha=0.0006495559684357877, random_state=47)"
      ]
     },
     "execution_count": 16,
     "metadata": {},
     "output_type": "execute_result"
    }
   ],
   "source": [
    "ind_melhor_arvore = len(test_scores) - test_scores[::-1].index(max(test_scores)) - 1\n",
    "melhor_arvore = clfs[ind_melhor_arvore]\n",
    "melhor_arvore"
   ]
  },
  {
   "cell_type": "code",
   "execution_count": 17,
   "metadata": {},
   "outputs": [],
   "source": [
    "melhor_arvore = DecisionTreeClassifier(random_state=47, ccp_alpha =0.0002891191328528699, max_depth=4 ).fit(X_train1, y_train)"
   ]
  },
  {
   "cell_type": "markdown",
   "metadata": {},
   "source": [
    "### 5. Avaliação do modelo\n",
    "\n",
    "Avalie a árvore encontrada no item anterior na base de testes."
   ]
  },
  {
   "cell_type": "code",
   "execution_count": 18,
   "metadata": {},
   "outputs": [
    {
     "data": {
      "text/plain": [
       "0.6320275661951397"
      ]
     },
     "execution_count": 18,
     "metadata": {},
     "output_type": "execute_result"
    }
   ],
   "source": [
    "melhor_arvore.score(X_train1, y_train)"
   ]
  },
  {
   "cell_type": "code",
   "execution_count": 19,
   "metadata": {},
   "outputs": [
    {
     "data": {
      "text/plain": [
       "0.5242619613165932"
      ]
     },
     "execution_count": 19,
     "metadata": {},
     "output_type": "execute_result"
    }
   ],
   "source": [
    "melhor_arvore.score(X_test1, y_test)"
   ]
  },
  {
   "cell_type": "code",
   "execution_count": 20,
   "metadata": {},
   "outputs": [
    {
     "data": {
      "text/plain": [
       "0.6131664853101197"
      ]
     },
     "execution_count": 20,
     "metadata": {},
     "output_type": "execute_result"
    }
   ],
   "source": [
    "melhor_arvore.score(X_valid1, y_valid)"
   ]
  },
  {
   "cell_type": "code",
   "execution_count": 21,
   "metadata": {},
   "outputs": [
    {
     "name": "stdout",
     "output_type": "stream",
     "text": [
      "Acurácia: 52.43\n"
     ]
    },
    {
     "name": "stderr",
     "output_type": "stream",
     "text": [
      "C:\\Users\\eric_\\anaconda3\\lib\\site-packages\\sklearn\\utils\\deprecation.py:87: FutureWarning: Function plot_confusion_matrix is deprecated; Function `plot_confusion_matrix` is deprecated in 1.0 and will be removed in 1.2. Use one of the class methods: ConfusionMatrixDisplay.from_predictions or ConfusionMatrixDisplay.from_estimator.\n",
      "  warnings.warn(msg, category=FutureWarning)\n"
     ]
    },
    {
     "data": {
      "image/png": "[encoded data removed]",
      "text/plain": [
       "<Figure size 640x480 with 2 Axes>"
      ]
     },
     "metadata": {},
     "output_type": "display_data"
    }
   ],
   "source": [
    "acuracia_teste = melhor_arvore.score(X_test1, y_test)\n",
    "\n",
    "print(f'Acurácia: {acuracia_teste*100:.2f}')\n",
    "plot_confusion_matrix(melhor_arvore, X_test1, y_test);"
   ]
  },
  {
   "cell_type": "code",
   "execution_count": null,
   "metadata": {},
   "outputs": [],
   "source": []
  }
 ],
 "metadata": {
  "kernelspec": {
   "display_name": "Python 3 (ipykernel)",
   "language": "python",
   "name": "python3"
  },
  "language_info": {
   "codemirror_mode": {
    "name": "ipython",
    "version": 3
   },
   "file_extension": ".py",
   "mimetype": "text/x-python",
   "name": "python",
   "nbconvert_exporter": "python",
   "pygments_lexer": "ipython3",
   "version": "3.9.19"
  }
 },
 "nbformat": 4,
 "nbformat_minor": 4
}
